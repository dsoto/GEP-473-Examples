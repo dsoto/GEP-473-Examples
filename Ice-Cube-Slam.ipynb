{
 "cells": [
  {
   "cell_type": "markdown",
   "metadata": {},
   "source": [
    "# Introduction\n",
    "\n",
    "This notebook computes the heat loss through an insulating layer.\n",
    "We assume that the inside is held at 0C and that the outside is 19C.\n",
    "We add up the heat energy transferred over a 26 hour period.\n",
    "\n",
    "We use a material with a conductivity of 0.02 W/m/K.\n",
    "We have a wall thickness of 0.13 meters.\n",
    "\n",
    "# Method\n",
    "\n",
    "- calculate the UA value for the conductive loss for our cooler\n",
    "- multiply by temperature difference to get power\n",
    "- multiply power by time to get energy\n",
    "- determine the amount of ice melted by that much energy\n",
    "\n"
   ]
  },
  {
   "cell_type": "markdown",
   "metadata": {},
   "source": [
    "# Thermal Resistance\n",
    "\n",
    "The first value we are estimating is the power transmitted per temperature difference for our insulating layer.  Later we will multiply this by the temperature difference to get the heat energy moving from the outside air to the ice inside. \n",
    "\n",
    "This is the heat transfer equation for a spherical surface.\n",
    "We are using it because it does a better job of modeling boxes with thick walls.\n",
    "\n",
    "- $k$ is the conductivity of the foam\n",
    "- $r_1$ is the inside radius of the cavity with the ice in it\n",
    "- $r_2$ is the outside radius of the box\n",
    "\n",
    "$$ R = \\frac{1}{4\\pi k}(\\frac{1}{r_1} - \\frac{1}{r_2}) $$\n",
    "\n",
    "$$ R = \\frac{1}{4\\pi 0.02 W / mk}(\\frac{1}{0.05 m} - \\frac{1}{0.18 m}) $$"
   ]
  },
  {
   "cell_type": "code",
   "execution_count": 14,
   "metadata": {},
   "outputs": [],
   "source": [
    "from pint import UnitRegistry\n",
    "u = UnitRegistry()\n",
    "\n",
    "k = 0.02 * u.watt / u.meter / u.kelvin\n",
    "r1 = 0.05 * u.meter\n",
    "thickness = 0.13 * u.meter\n",
    "r2 = r1 + thickness"
   ]
  },
  {
   "cell_type": "code",
   "execution_count": 15,
   "metadata": {},
   "outputs": [
    {
     "data": {
      "text/html": [
       "0.017390769230769234 watt/kelvin"
      ],
      "text/latex": [
       "$0.017390769230769234\\ \\frac{\\mathrm{watt}}{\\mathrm{kelvin}}$"
      ],
      "text/plain": [
       "<Quantity(0.017390769230769234, 'watt / kelvin')>"
      ]
     },
     "execution_count": 15,
     "metadata": {},
     "output_type": "execute_result"
    }
   ],
   "source": [
    "# Spherical Model\n",
    "\n",
    "R = (1 / r1 - 1 / r2) / 4 / 3.14 / k\n",
    "UA = 1 / R\n",
    "UA"
   ]
  },
  {
   "cell_type": "code",
   "execution_count": 37,
   "metadata": {},
   "outputs": [
    {
     "data": {
      "text/html": [
       "30927.744000000006 joule"
      ],
      "text/latex": [
       "$30927.744000000006\\ \\mathrm{joule}$"
      ],
      "text/plain": [
       "<Quantity(30927.744000000006, 'joule')>"
      ]
     },
     "execution_count": 37,
     "metadata": {},
     "output_type": "execute_result"
    }
   ],
   "source": [
    "# energy transferred over 24 hours\n",
    "\n",
    "delta_T = 19 * u.kelvin\n",
    "time = 26 * u.hour\n",
    "energy_transferred = (UA * delta_T * time).to(u.joule)\n",
    "energy_transferred"
   ]
  },
  {
   "cell_type": "code",
   "execution_count": 24,
   "metadata": {},
   "outputs": [
    {
     "data": {
      "text/html": [
       "92.59803592814373 gram"
      ],
      "text/latex": [
       "$92.59803592814373\\ \\mathrm{gram}$"
      ],
      "text/plain": [
       "<Quantity(92.59803592814373, 'gram')>"
      ]
     },
     "execution_count": 24,
     "metadata": {},
     "output_type": "execute_result"
    }
   ],
   "source": [
    "# use latent heat of fusion to get ice melted\n",
    "\n",
    "lf = 334 * u.joule / u.gram\n",
    "energy_transferred / lf"
   ]
  },
  {
   "cell_type": "code",
   "execution_count": 31,
   "metadata": {},
   "outputs": [
    {
     "data": {
      "text/html": [
       "11.946653333333332 liter"
      ],
      "text/latex": [
       "$11.946653333333332\\ \\mathrm{liter}$"
      ],
      "text/plain": [
       "<Quantity(11.946653333333332, 'liter')>"
      ]
     },
     "execution_count": 31,
     "metadata": {},
     "output_type": "execute_result"
    }
   ],
   "source": [
    "heat_capacity = 1.4 * u.joule / u.gram / u.kelvin\n",
    "\n",
    "volume = 4 / 3 * 3.14 * (r2**3 - r1**3)\n",
    "cold_volume = volume.to(u.liter) / 2\n",
    "cold_volume"
   ]
  },
  {
   "cell_type": "code",
   "execution_count": 42,
   "metadata": {
    "collapsed": true
   },
   "outputs": [],
   "source": [
    "foam_density = 30 * u.kg / u.meter**3"
   ]
  },
  {
   "cell_type": "code",
   "execution_count": 44,
   "metadata": {},
   "outputs": [],
   "source": [
    "energy_to_cool_foam = (cold_volume * foam_density * heat_capacity * delta_T).to(u.joule)"
   ]
  },
  {
   "cell_type": "code",
   "execution_count": null,
   "metadata": {
    "collapsed": true
   },
   "outputs": [],
   "source": []
  },
  {
   "cell_type": "code",
   "execution_count": null,
   "metadata": {
    "collapsed": true
   },
   "outputs": [],
   "source": []
  },
  {
   "cell_type": "code",
   "execution_count": null,
   "metadata": {
    "collapsed": true
   },
   "outputs": [],
   "source": []
  },
  {
   "cell_type": "code",
   "execution_count": null,
   "metadata": {
    "collapsed": true
   },
   "outputs": [],
   "source": []
  },
  {
   "cell_type": "code",
   "execution_count": null,
   "metadata": {
    "collapsed": true
   },
   "outputs": [],
   "source": []
  },
  {
   "cell_type": "code",
   "execution_count": null,
   "metadata": {
    "collapsed": true
   },
   "outputs": [],
   "source": []
  },
  {
   "cell_type": "code",
   "execution_count": 1,
   "metadata": {
    "collapsed": true
   },
   "outputs": [],
   "source": [
    "from pint import UnitRegistry\n",
    "\n",
    "u = UnitRegistry()\n",
    "\n",
    "cooler_side = 0.3 * u.meter\n",
    "conductivity = 0.033 * u.watt / u.meter / u.kelvin\n",
    "thickness = 0.02 * u.meter\n",
    "latent_heat_freezing = 334 * u.joule / u.gram"
   ]
  },
  {
   "cell_type": "code",
   "execution_count": 3,
   "metadata": {},
   "outputs": [
    {
     "data": {
      "text/html": [
       "0.54 meter<sup>2</sup>"
      ],
      "text/latex": [
       "$0.54\\ \\mathrm{meter}^{2}$"
      ],
      "text/plain": [
       "<Quantity(0.54, 'meter ** 2')>"
      ]
     },
     "execution_count": 3,
     "metadata": {},
     "output_type": "execute_result"
    }
   ],
   "source": [
    "cooler_side_area = cooler_side ** 2\n",
    "total_cooler_area = cooler_side_area * 6\n",
    "total_cooler_area"
   ]
  },
  {
   "cell_type": "code",
   "execution_count": 20,
   "metadata": {},
   "outputs": [
    {
     "data": {
      "text/html": [
       "0.8910000000000001 watt/kelvin"
      ],
      "text/latex": [
       "$0.8910000000000001\\ \\frac{\\mathrm{watt}}{\\mathrm{kelvin}}$"
      ],
      "text/plain": [
       "<Quantity(0.8910000000000001, 'watt / kelvin')>"
      ]
     },
     "execution_count": 20,
     "metadata": {},
     "output_type": "execute_result"
    }
   ],
   "source": [
    "UA = conductivity / thickness * total_cooler_area\n",
    "UA"
   ]
  },
  {
   "cell_type": "code",
   "execution_count": 5,
   "metadata": {},
   "outputs": [
    {
     "data": {
      "text/html": [
       "0.06669161676646707 gram watt/joule"
      ],
      "text/latex": [
       "$0.06669161676646707\\ \\frac{\\mathrm{gram} \\cdot \\mathrm{watt}}{\\mathrm{joule}}$"
      ],
      "text/plain": [
       "<Quantity(0.06669161676646707, 'gram * watt / joule')>"
      ]
     },
     "execution_count": 5,
     "metadata": {},
     "output_type": "execute_result"
    }
   ],
   "source": [
    "deltaT = 25 * u.kelvin\n",
    "melt_rate = UA * deltaT / latent_heat_freezing\n",
    "melt_rate"
   ]
  },
  {
   "cell_type": "code",
   "execution_count": 14,
   "metadata": {},
   "outputs": [
    {
     "data": {
      "text/html": [
       "360.13473053892216 gram"
      ],
      "text/latex": [
       "$360.13473053892216\\ \\mathrm{gram}$"
      ],
      "text/plain": [
       "<Quantity(360.13473053892216, 'gram')>"
      ]
     },
     "execution_count": 14,
     "metadata": {},
     "output_type": "execute_result"
    }
   ],
   "source": [
    "melt_rate.to(u.gram / u.minute) * 90 * u.minute"
   ]
  },
  {
   "cell_type": "code",
   "execution_count": 18,
   "metadata": {},
   "outputs": [
    {
     "data": {
      "text/html": [
       "3.441371721886963 delta_degF foot<sup>2</sup> hour/btu"
      ],
      "text/latex": [
       "$3.441371721886963\\ \\frac{\\mathrm{delta_degF} \\cdot \\mathrm{foot}^{2} \\cdot \\mathrm{hour}}{\\mathrm{btu}}$"
      ],
      "text/plain": [
       "<Quantity(3.441371721886963, 'delta_degF * foot ** 2 * hour / btu')>"
      ]
     },
     "execution_count": 18,
     "metadata": {},
     "output_type": "execute_result"
    }
   ],
   "source": [
    "R_wall = thickness / conductivity\n",
    "R_wall.to(u.delta_degF * u.feet**2 * u.hour/ u.BTU)"
   ]
  },
  {
   "cell_type": "code",
   "execution_count": 19,
   "metadata": {},
   "outputs": [
    {
     "data": {
      "text/html": [
       "0.6060606060606061 kelvin meter<sup>2</sup>/watt"
      ],
      "text/latex": [
       "$0.6060606060606061\\ \\frac{\\mathrm{kelvin} \\cdot \\mathrm{meter}^{2}}{\\mathrm{watt}}$"
      ],
      "text/plain": [
       "<Quantity(0.6060606060606061, 'kelvin * meter ** 2 / watt')>"
      ]
     },
     "execution_count": 19,
     "metadata": {},
     "output_type": "execute_result"
    }
   ],
   "source": [
    "R_wall"
   ]
  },
  {
   "cell_type": "code",
   "execution_count": 1,
   "metadata": {},
   "outputs": [
    {
     "data": {
      "text/plain": [
       "99.994348"
      ]
     },
     "execution_count": 1,
     "metadata": {},
     "output_type": "execute_result"
    }
   ],
   "source": [
    "# ice cube slam 200 gram numbers\n",
    "\n",
    "1/0.01 - 0.015*4*3.14*0.03"
   ]
  },
  {
   "cell_type": "code",
   "execution_count": 19,
   "metadata": {},
   "outputs": [
    {
     "data": {
      "text/plain": [
       "0.02355"
      ]
     },
     "execution_count": 19,
     "metadata": {},
     "output_type": "execute_result"
    }
   ],
   "source": [
    "r1 = 0.05\n",
    "r2 = 0.25\n",
    "U = 1/((1/r1 - 1/r2)/4/3.14/0.03)\n",
    "U"
   ]
  },
  {
   "cell_type": "code",
   "execution_count": null,
   "metadata": {
    "collapsed": true
   },
   "outputs": [],
   "source": []
  }
 ],
 "metadata": {
  "kernelspec": {
   "display_name": "Python 3",
   "language": "python",
   "name": "python3"
  },
  "language_info": {
   "codemirror_mode": {
    "name": "ipython",
    "version": 3
   },
   "file_extension": ".py",
   "mimetype": "text/x-python",
   "name": "python",
   "nbconvert_exporter": "python",
   "pygments_lexer": "ipython3",
   "version": "3.6.2"
  }
 },
 "nbformat": 4,
 "nbformat_minor": 2
}
