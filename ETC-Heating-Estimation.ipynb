{
 "cells": [
  {
   "cell_type": "markdown",
   "metadata": {},
   "source": [
    "# Introduction\n",
    "\n",
    "This notebook estimates the heat loss through the above ground envelope in the ETC.\n",
    "\n",
    "# Method\n",
    "\n",
    "We will use the dimensions of the building and the R-value of a SIP panel to determine the UA value of the building.  We will then use the degree days for the Santa Rosa area to calculate the energy lost through the walls.  Finally, we use the energy density of natural gas to calculate the volume of gas that must be burned to release that much energy.\n",
    "\n",
    "- Estimate wall and ceiling area\n",
    "- Assume SIP walls like demo example\n",
    "- Use Santa Rosa degree days\n",
    "\n",
    "## Values and assumptions\n",
    "\n",
    "- width of building 8 meters\n",
    "- length of building 13 meters\n",
    "- height of building 6 meters\n",
    "- R-value (US) of 20 ft^2 hr F per BTU\n",
    "- energy density of natural gas 54 MJ/kg 23 kBTU/lb 1000 BTU/ft^3\n",
    "- 550 heating degree days [link](https://wrcc.dri.edu/cgi-bin/cliMONthdd.pl?casros)\n",
    "- carbon intensity of electricity 0.3 kg CO2 per kWh\n",
    "- COP of heat pump water heater 2\n",
    "\n",
    "# Result\n",
    "\n",
    "- Energy per month of December = 2.5 million BTU\n",
    "- Carbon dioxide per month 158 kilograms\n",
    "- Cost per month of December\n"
   ]
  },
  {
   "cell_type": "markdown",
   "metadata": {},
   "source": [
    "$$ q = UA \\Delta T $$\n",
    "$$ Q = UA \\cdot \\textrm{degree days} $$\n",
    "\n",
    "\n",
    "- h = height\n",
    "- w = width\n",
    "- l = length\n",
    "\n",
    "$$ wall\\ area\\ NS = 2 \\cdot w \\cdot h $$"
   ]
  },
  {
   "cell_type": "code",
   "execution_count": 15,
   "metadata": {},
   "outputs": [],
   "source": [
    "from pint import UnitRegistry\n",
    "u = UnitRegistry()\n",
    "\n",
    "width = 8 * u.meter\n",
    "length = 13 * u.meter\n",
    "height = 6 * u.meter\n",
    "\n",
    "walls_ew = 2 * width * height\n",
    "walls_ns = 2 * length * height\n",
    "ceiling = length * width\n",
    "total_area = walls_ew + walls_ns + ceiling\n",
    "U = 1 / 20 * u.BTU / u.hour / u.feet**2 / u.delta_degF"
   ]
  },
  {
   "cell_type": "code",
   "execution_count": 16,
   "metadata": {},
   "outputs": [
    {
     "data": {
      "text/html": [
       "3831.9521083486616 foot<sup>2</sup>"
      ],
      "text/latex": [
       "$3831.9521083486616\\ \\mathrm{foot}^{2}$"
      ],
      "text/plain": [
       "<Quantity(3831.9521083486616, 'foot ** 2')>"
      ]
     },
     "execution_count": 16,
     "metadata": {},
     "output_type": "execute_result"
    }
   ],
   "source": [
    "total_area.to(u.foot**2)"
   ]
  },
  {
   "cell_type": "code",
   "execution_count": 24,
   "metadata": {},
   "outputs": [
    {
     "data": {
      "text/html": [
       "9790.0 btu day meter<sup>2</sup>/(foot<sup>2</sup> hour)"
      ],
      "text/latex": [
       "$9790.0\\ \\frac{\\mathrm{btu} \\cdot \\mathrm{day} \\cdot \\mathrm{meter}^{2}}{\\left(\\mathrm{foot}^{2} \\cdot \\mathrm{hour}\\right)}$"
      ],
      "text/plain": [
       "<Quantity(9790.0, 'btu * day * meter ** 2 / foot ** 2 / hour')>"
      ]
     },
     "execution_count": 24,
     "metadata": {},
     "output_type": "execute_result"
    }
   ],
   "source": [
    "degree_days = 550 * u.delta_degF * u.days \n",
    "U * total_area * degree_days"
   ]
  },
  {
   "cell_type": "code",
   "execution_count": 23,
   "metadata": {},
   "outputs": [
    {
     "data": {
      "text/html": [
       "2529088.3915101164 btu"
      ],
      "text/latex": [
       "$2529088.3915101164\\ \\mathrm{btu}$"
      ],
      "text/plain": [
       "<Quantity(2529088.3915101164, 'btu')>"
      ]
     },
     "execution_count": 23,
     "metadata": {},
     "output_type": "execute_result"
    }
   ],
   "source": [
    "(U * total_area * degree_days).to(u.btu)"
   ]
  },
  {
   "cell_type": "code",
   "execution_count": 29,
   "metadata": {},
   "outputs": [],
   "source": [
    "observed_gas_volume = (3405 - 3379) * 100 * u.feet**3\n",
    "\n",
    "observed_energy = observed_gas_volume * 1000 * u.BTU / u.feet**3"
   ]
  },
  {
   "cell_type": "code",
   "execution_count": 32,
   "metadata": {},
   "outputs": [
    {
     "data": {
      "text/html": [
       "158.03158170800003 kilogram"
      ],
      "text/latex": [
       "$158.03158170800003\\ \\mathrm{kilogram}$"
      ],
      "text/plain": [
       "<Quantity(158.03158170800003, 'kilogram')>"
      ]
     },
     "execution_count": 32,
     "metadata": {},
     "output_type": "execute_result"
    }
   ],
   "source": [
    "observed_energy.to(u.therm)\n",
    "carbon_intensity = 13.4 * u.pound / u.therm\n",
    "(observed_energy * carbon_intensity).to(u.kg)"
   ]
  },
  {
   "cell_type": "markdown",
   "metadata": {},
   "source": [
    "TODO: get a good model for ground heat loss\n",
    "\n",
    "- [slab on grade heat loss](https://www.sciencedirect.com/science/article/pii/S0360132300000408)"
   ]
  },
  {
   "cell_type": "code",
   "execution_count": 38,
   "metadata": {},
   "outputs": [
    {
     "data": {
      "text/html": [
       "38.099239122388894 kilogram"
      ],
      "text/latex": [
       "$38.099239122388894\\ \\mathrm{kilogram}$"
      ],
      "text/plain": [
       "<Quantity(38.099239122388894, 'kilogram')>"
      ]
     },
     "execution_count": 38,
     "metadata": {},
     "output_type": "execute_result"
    }
   ],
   "source": [
    "(observed_energy / 2 * 0.1 * u.kg / u.kWh).to(u.kg)"
   ]
  },
  {
   "cell_type": "code",
   "execution_count": null,
   "metadata": {
    "collapsed": true
   },
   "outputs": [],
   "source": []
  }
 ],
 "metadata": {
  "kernelspec": {
   "display_name": "Python 3",
   "language": "python",
   "name": "python3"
  },
  "language_info": {
   "codemirror_mode": {
    "name": "ipython",
    "version": 3
   },
   "file_extension": ".py",
   "mimetype": "text/x-python",
   "name": "python",
   "nbconvert_exporter": "python",
   "pygments_lexer": "ipython3",
   "version": "3.6.2"
  }
 },
 "nbformat": 4,
 "nbformat_minor": 1
}
